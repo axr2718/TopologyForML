{
 "cells": [
  {
   "cell_type": "markdown",
   "source": [],
   "metadata": {
    "collapsed": false
   },
   "id": "faa50a87159cdee1"
  },
  {
   "cell_type": "markdown",
   "source": [
    "# TDAMapper Visualization of the BitcoinHeist Dataset\n",
    "This notebook demonstrates how to use KeplerMapper to analyze the BitcoinHeist dataset for ransomware detection in the Bitcoin blockchain. We'll preprocess the data, apply a dimensionality reduction technique, and visualize it using TDAMapper.\n"
   ],
   "metadata": {
    "collapsed": false
   },
   "id": "c2d0b3e3e97c5a6d"
  },
  {
   "cell_type": "code",
   "outputs": [],
   "source": [
    "# Ensure that the necessary packages are installed\n",
    "#!pip install kmapper scikit-learn pandas matplotlib"
   ],
   "metadata": {
    "collapsed": false,
    "ExecuteTime": {
     "end_time": "2024-09-04T21:50:33.245024Z",
     "start_time": "2024-09-04T21:50:33.241370Z"
    }
   },
   "id": "4c94bb25636fa6b6",
   "execution_count": 19
  },
  {
   "cell_type": "code",
   "outputs": [],
   "source": [
    "# Import necessary libraries\n",
    "import pandas as pd\n",
    "import numpy as np\n",
    "import kmapper as km\n",
    "from sklearn.preprocessing import StandardScaler\n",
    "from sklearn.decomposition import PCA\n",
    "\n",
    "\n"
   ],
   "metadata": {
    "collapsed": false,
    "ExecuteTime": {
     "end_time": "2024-09-04T21:50:33.252092Z",
     "start_time": "2024-09-04T21:50:33.249082Z"
    }
   },
   "id": "7d1525bbe2b53bc0",
   "execution_count": 20
  },
  {
   "cell_type": "markdown",
   "source": [
    "## Overview of the BitcoinHeist Dataset\n",
    "\n",
    "The BitcoinHeist dataset is a rich collection of data extracted from the Bitcoin blockchain, designed specifically for the analysis of ransomware transactions. It includes detailed information on Bitcoin transactions that have been flagged as potential ransom payments.\n",
    "\n",
    "URL: https://www.ijcai.org/proceedings/2020/0612.pdf\n",
    "\n",
    "### Dataset Description\n",
    "\n",
    "- **Data Points:** The dataset comprises transactions sampled over several years from the Bitcoin blockchain.\n",
    "- **Features:** Each transaction in the dataset is characterized by several features such as:\n",
    "  - `address`: The Bitcoin address involved in the transaction.\n",
    "  - `year`: The year the transaction was made.\n",
    "  - `day`: The day of the transaction within the year.\n",
    "  - `length`: A metric indicative of the length of the transaction chain.\n",
    "  - `weight`: A measure of the transaction's cumulative security based on the participating addresses.\n",
    "  - `count`: The number of transactions associated with the specific address.\n",
    "  - `looped`: The number of looped transactions to self.\n",
    "  - `neighbors`: The number of neighboring nodes in the transaction graph.\n",
    "  - `income`: The amount of Bitcoin transacted.\n",
    "  - `label`: Classification of the transaction (e.g., 'white' or, 'ransomwarex', specific ransomware family names).\n",
    "\n",
    "### Use Cases\n",
    "\n",
    "This dataset is widely used in cybersecurity research to develop models that can identify and classify ransomware transactions based on blockchain analysis. By applying machine learning and data mining techniques, researchers can:\n",
    "- Detect unusual patterns indicating fraudulent activities.\n",
    "- Develop systems that automatically flag transactions related to ransomware.\n",
    "- Analyze trends in ransomware evolution over time based on transaction data.\n",
    "\n",
    "### Dataset Accessibility\n",
    "\n",
    "The BitcoinHeist dataset is typically available through academic data repositories and can be used under specific terms and conditions for educational and research purposes.\n",
    "\n",
    "https://www.kaggle.com/datasets/sapere0/bitcoinheist-ransomware-dataset\n",
    "https://archive.ics.uci.edu/dataset/526/bitcoinheistransomwareaddressdataset\n",
    "\n",
    "### Visualization and Analysis\n",
    "\n",
    "Using data visualization and topological data analysis tools like KeplerMapper, we can explore complex patterns and relationships within the data, providing insights that are critical for enhancing blockchain security measures.\n",
    "\n",
    "---\n",
    "\n",
    "**Note:** The article originally uses the R:TDAMapper code (on temporal snapshots) but the library code is outdated now. Below we only give a Python overview of the data without using a rigorous backtesting approach.\n"
   ],
   "metadata": {
    "collapsed": false
   },
   "id": "cf8d2d9b088ec795"
  },
  {
   "cell_type": "code",
   "outputs": [
    {
     "name": "stdout",
     "output_type": "stream",
     "text": [
      "['princetonCerber' 'princetonLocky' 'montrealCryptoLocker'\n",
      " 'montrealCryptXXX' 'paduaCryptoWall' 'montrealWannaCry'\n",
      " 'montrealDMALockerv3' 'montrealCryptoTorLocker2015' 'montrealSamSam'\n",
      " 'montrealFlyper' 'montrealNoobCrypt' 'montrealDMALocker' 'montrealGlobe'\n",
      " 'montrealEDA2' 'paduaKeRanger' 'montrealVenusLocker' 'montrealXTPLocker'\n",
      " 'paduaJigsaw' 'montrealGlobev3' 'montrealJigSaw' 'montrealXLockerv5.0'\n",
      " 'montrealXLocker' 'montrealRazy' 'montrealCryptConsole'\n",
      " 'montrealGlobeImposter' 'montrealSam' 'montrealComradeCircle'\n",
      " 'montrealAPT' 'white']\n"
     ]
    }
   ],
   "source": [
    "# Load the dataset\n",
    "# Make sure to upload the BitcoinHeistData.csv file to your Jupyter environment\n",
    "full_df = pd.read_csv('https://github.com/jihwankimqd/Bitcoin_Heist_Classification/raw/master/BitcoinHeistData.csv', delimiter=',')\n",
    "\n",
    "# Display unique values in the 'label' column to understand its composition\n",
    "print(full_df['label'].unique())\n",
    "\n",
    "# Assuming 'white' is used to label white transactions, and all others are non-white\n",
    "white_transactions = full_df[full_df['label'] == 'white']\n",
    "non_white_transactions = full_df[full_df['label'] != 'white']\n",
    "\n",
    "# Sample 500 white and 500 non-white transactions\n",
    "white_sample = white_transactions.sample(n=500, random_state=42)  # random_state for reproducibility\n",
    "non_white_sample = non_white_transactions.sample(n=500, random_state=42)\n",
    "\n",
    "# Combine the two samples into a single DataFrame\n",
    "df = pd.concat([white_sample, non_white_sample], ignore_index=True)\n"
   ],
   "metadata": {
    "collapsed": false,
    "ExecuteTime": {
     "end_time": "2024-09-04T21:54:50.907430Z",
     "start_time": "2024-09-04T21:54:45.915465Z"
    }
   },
   "id": "5f42ec987374950",
   "execution_count": 28
  },
  {
   "cell_type": "code",
   "outputs": [
    {
     "data": {
      "text/plain": "                              address  year  day  length   weight  count  \\\n0  1Keuc65zA62DjCh4aRXAnVfNCdtzr9htpW  2015  365       4  1.00000      5   \n1  1CkaHrXSqAJdmXo6zaeJ8UbhQaDSYJF2nE  2013   96       0  0.50000      1   \n2  16RDLhXDT4L4kfmWHd68TntiyP3zZtX3Xv  2012  338      16  0.03125      1   \n3  1CAmcT4S2XnMwjViEbgB9r5qhXZCZHGFUd  2013  249       6  0.25000      1   \n4  1514euPsGdYsZPFfJJE4ruFb7P5Ey2cvRr  2013  114       0  0.50000      1   \n\n   looped  neighbors        income  label  \n0       5          2  1.259206e+08  white  \n1       0          2  2.134359e+09  white  \n2       0          2  1.056004e+09  white  \n3       0          2  3.990592e+07  white  \n4       0          1  2.537500e+08  white  ",
      "text/html": "<div>\n<style scoped>\n    .dataframe tbody tr th:only-of-type {\n        vertical-align: middle;\n    }\n\n    .dataframe tbody tr th {\n        vertical-align: top;\n    }\n\n    .dataframe thead th {\n        text-align: right;\n    }\n</style>\n<table border=\"1\" class=\"dataframe\">\n  <thead>\n    <tr style=\"text-align: right;\">\n      <th></th>\n      <th>address</th>\n      <th>year</th>\n      <th>day</th>\n      <th>length</th>\n      <th>weight</th>\n      <th>count</th>\n      <th>looped</th>\n      <th>neighbors</th>\n      <th>income</th>\n      <th>label</th>\n    </tr>\n  </thead>\n  <tbody>\n    <tr>\n      <th>0</th>\n      <td>1Keuc65zA62DjCh4aRXAnVfNCdtzr9htpW</td>\n      <td>2015</td>\n      <td>365</td>\n      <td>4</td>\n      <td>1.00000</td>\n      <td>5</td>\n      <td>5</td>\n      <td>2</td>\n      <td>1.259206e+08</td>\n      <td>white</td>\n    </tr>\n    <tr>\n      <th>1</th>\n      <td>1CkaHrXSqAJdmXo6zaeJ8UbhQaDSYJF2nE</td>\n      <td>2013</td>\n      <td>96</td>\n      <td>0</td>\n      <td>0.50000</td>\n      <td>1</td>\n      <td>0</td>\n      <td>2</td>\n      <td>2.134359e+09</td>\n      <td>white</td>\n    </tr>\n    <tr>\n      <th>2</th>\n      <td>16RDLhXDT4L4kfmWHd68TntiyP3zZtX3Xv</td>\n      <td>2012</td>\n      <td>338</td>\n      <td>16</td>\n      <td>0.03125</td>\n      <td>1</td>\n      <td>0</td>\n      <td>2</td>\n      <td>1.056004e+09</td>\n      <td>white</td>\n    </tr>\n    <tr>\n      <th>3</th>\n      <td>1CAmcT4S2XnMwjViEbgB9r5qhXZCZHGFUd</td>\n      <td>2013</td>\n      <td>249</td>\n      <td>6</td>\n      <td>0.25000</td>\n      <td>1</td>\n      <td>0</td>\n      <td>2</td>\n      <td>3.990592e+07</td>\n      <td>white</td>\n    </tr>\n    <tr>\n      <th>4</th>\n      <td>1514euPsGdYsZPFfJJE4ruFb7P5Ey2cvRr</td>\n      <td>2013</td>\n      <td>114</td>\n      <td>0</td>\n      <td>0.50000</td>\n      <td>1</td>\n      <td>0</td>\n      <td>1</td>\n      <td>2.537500e+08</td>\n      <td>white</td>\n    </tr>\n  </tbody>\n</table>\n</div>"
     },
     "execution_count": 29,
     "metadata": {},
     "output_type": "execute_result"
    }
   ],
   "source": [
    "# Display the first few rows of the dataset to understand its structure\n",
    "df.head()\n"
   ],
   "metadata": {
    "collapsed": false,
    "ExecuteTime": {
     "end_time": "2024-09-04T21:54:57.477464Z",
     "start_time": "2024-09-04T21:54:57.468243Z"
    }
   },
   "id": "b526f31a52326f5d",
   "execution_count": 29
  },
  {
   "cell_type": "code",
   "outputs": [],
   "source": [
    "# Preprocess the data\n",
    "# Select numerical features for simplicity and scale them\n",
    "features = df.select_dtypes(include=[np.number])\n",
    "scaler = StandardScaler()\n",
    "features_scaled = scaler.fit_transform(features)\n"
   ],
   "metadata": {
    "collapsed": false,
    "ExecuteTime": {
     "end_time": "2024-09-04T21:55:00.074913Z",
     "start_time": "2024-09-04T21:55:00.057569Z"
    }
   },
   "id": "2c1a5d0753bb38db",
   "execution_count": 30
  },
  {
   "cell_type": "code",
   "outputs": [
    {
     "name": "stdout",
     "output_type": "stream",
     "text": [
      "KeplerMapper(verbose=1)\n",
      "..Composing projection pipeline of length 1:\n",
      "\tProjections: PCA(n_components=2)\n",
      "\tDistance matrices: False\n",
      "\tScalers: MinMaxScaler()\n",
      "..Projecting on data shaped (1000, 8)\n",
      "\n",
      "..Projecting data using: \n",
      "\tPCA(n_components=2)\n",
      "\n",
      "\n",
      "..Scaling with: MinMaxScaler()\n"
     ]
    }
   ],
   "source": [
    "# Initialize KeplerMapper object\n",
    "mapper = km.KeplerMapper(verbose=1)\n",
    "\n",
    "# Define the lens with PCA, reducing to 2 components for visualization\n",
    "lens = mapper.fit_transform(features_scaled, projection=PCA(n_components=2))# PCA is faster, but we suggest tSNE for production code\n"
   ],
   "metadata": {
    "collapsed": false,
    "ExecuteTime": {
     "end_time": "2024-09-04T21:55:01.522084Z",
     "start_time": "2024-09-04T21:55:01.480466Z"
    }
   },
   "id": "d35663bf49cc69d9",
   "execution_count": 31
  },
  {
   "cell_type": "code",
   "outputs": [
    {
     "name": "stdout",
     "output_type": "stream",
     "text": [
      "Mapping on data shaped (1000, 8) using lens shaped (1000, 2)\n",
      "\n",
      "Creating 100 hypercubes.\n"
     ]
    },
    {
     "name": "stderr",
     "output_type": "stream",
     "text": [
      "/opt/miniconda3/lib/python3.12/site-packages/sklearn/cluster/_kmeans.py:1412: FutureWarning: The default value of `n_init` will change from 10 to 'auto' in 1.4. Set the value of `n_init` explicitly to suppress the warning\n",
      "  super()._check_params_vs_input(X, default_n_init=10)\n",
      "/opt/miniconda3/lib/python3.12/site-packages/sklearn/cluster/_kmeans.py:1412: FutureWarning: The default value of `n_init` will change from 10 to 'auto' in 1.4. Set the value of `n_init` explicitly to suppress the warning\n",
      "  super()._check_params_vs_input(X, default_n_init=10)\n",
      "/opt/miniconda3/lib/python3.12/site-packages/sklearn/cluster/_kmeans.py:1412: FutureWarning: The default value of `n_init` will change from 10 to 'auto' in 1.4. Set the value of `n_init` explicitly to suppress the warning\n",
      "  super()._check_params_vs_input(X, default_n_init=10)\n",
      "/opt/miniconda3/lib/python3.12/site-packages/sklearn/cluster/_kmeans.py:1412: FutureWarning: The default value of `n_init` will change from 10 to 'auto' in 1.4. Set the value of `n_init` explicitly to suppress the warning\n",
      "  super()._check_params_vs_input(X, default_n_init=10)\n",
      "/opt/miniconda3/lib/python3.12/site-packages/sklearn/cluster/_kmeans.py:1412: FutureWarning: The default value of `n_init` will change from 10 to 'auto' in 1.4. Set the value of `n_init` explicitly to suppress the warning\n",
      "  super()._check_params_vs_input(X, default_n_init=10)\n",
      "/opt/miniconda3/lib/python3.12/site-packages/sklearn/cluster/_kmeans.py:1412: FutureWarning: The default value of `n_init` will change from 10 to 'auto' in 1.4. Set the value of `n_init` explicitly to suppress the warning\n",
      "  super()._check_params_vs_input(X, default_n_init=10)\n",
      "/opt/miniconda3/lib/python3.12/site-packages/sklearn/cluster/_kmeans.py:1412: FutureWarning: The default value of `n_init` will change from 10 to 'auto' in 1.4. Set the value of `n_init` explicitly to suppress the warning\n",
      "  super()._check_params_vs_input(X, default_n_init=10)\n",
      "/opt/miniconda3/lib/python3.12/site-packages/sklearn/cluster/_kmeans.py:1412: FutureWarning: The default value of `n_init` will change from 10 to 'auto' in 1.4. Set the value of `n_init` explicitly to suppress the warning\n",
      "  super()._check_params_vs_input(X, default_n_init=10)\n",
      "/opt/miniconda3/lib/python3.12/site-packages/sklearn/cluster/_kmeans.py:1412: FutureWarning: The default value of `n_init` will change from 10 to 'auto' in 1.4. Set the value of `n_init` explicitly to suppress the warning\n",
      "  super()._check_params_vs_input(X, default_n_init=10)\n",
      "/opt/miniconda3/lib/python3.12/site-packages/sklearn/cluster/_kmeans.py:1412: FutureWarning: The default value of `n_init` will change from 10 to 'auto' in 1.4. Set the value of `n_init` explicitly to suppress the warning\n",
      "  super()._check_params_vs_input(X, default_n_init=10)\n",
      "/opt/miniconda3/lib/python3.12/site-packages/sklearn/cluster/_kmeans.py:1412: FutureWarning: The default value of `n_init` will change from 10 to 'auto' in 1.4. Set the value of `n_init` explicitly to suppress the warning\n",
      "  super()._check_params_vs_input(X, default_n_init=10)\n"
     ]
    },
    {
     "name": "stdout",
     "output_type": "stream",
     "text": [
      "\n",
      "Created 96 edges and 60 nodes in 0:00:00.232390.\n"
     ]
    },
    {
     "name": "stderr",
     "output_type": "stream",
     "text": [
      "/opt/miniconda3/lib/python3.12/site-packages/sklearn/cluster/_kmeans.py:1412: FutureWarning: The default value of `n_init` will change from 10 to 'auto' in 1.4. Set the value of `n_init` explicitly to suppress the warning\n",
      "  super()._check_params_vs_input(X, default_n_init=10)\n"
     ]
    }
   ],
   "source": [
    "import sklearn\n",
    "\n",
    "#we will consider the binary case where all non-white (i.e., ransomware) addresses are colored the same.\n",
    "df['is_white'] = (df['label'] == 'white').astype(int)\n",
    "# Create the TDAMapper graph\n",
    "# Prepare the color function which will be used in the visualization\n",
    "color_function = df['is_white'].values\n",
    "\n",
    "# Create the graph using the color function for node colors\n",
    "graph = mapper.map(lens,\n",
    "                   features_scaled,\n",
    "                   clusterer=sklearn.cluster.KMeans(n_clusters=5),\n",
    "    cover=km.Cover(n_cubes=10, perc_overlap=0.2))\n",
    "\n"
   ],
   "metadata": {
    "collapsed": false,
    "ExecuteTime": {
     "end_time": "2024-09-04T21:55:03.027133Z",
     "start_time": "2024-09-04T21:55:02.755048Z"
    }
   },
   "id": "d02d45b4cb2d133f",
   "execution_count": 32
  },
  {
   "cell_type": "code",
   "outputs": [
    {
     "name": "stdout",
     "output_type": "stream",
     "text": [
      "Wrote visualization to: output/bitcoin_heist_mapper_output.html\n"
     ]
    }
   ],
   "source": [
    "import os\n",
    " \n",
    "# Define the output directory\n",
    "output_dir = 'output'\n",
    "\n",
    "# Check if the directory exists, and create it if it doesn't\n",
    "if not os.path.exists(output_dir):\n",
    "    os.makedirs(output_dir)\n",
    "# Visualize the graph with color coding\n",
    "html = mapper.visualize(graph,\n",
    "                        path_html=os.path.join(output_dir, \"bitcoin_heist_mapper_output.html\"),\n",
    "                        title=\"Bitcoin Heist TDAMapper Visualization\",\n",
    "                        color_function=df['is_white'].values,\n",
    "                        color_function_name=\"Transaction Type\",  # Indicates what the color represents\n",
    "                        custom_tooltips=np.array(df['label']))  # Optional: add tooltips for more interaction\n",
    "\n",
    "# Save the visualization to the disk\n",
    "with open(os.path.join(output_dir, \"bitcoin_heist_mapper_output.html\"), \"w\") as f:\n",
    "    f.write(html)\n",
    "\n"
   ],
   "metadata": {
    "collapsed": false,
    "ExecuteTime": {
     "end_time": "2024-09-04T21:55:04.217853Z",
     "start_time": "2024-09-04T21:55:04.128443Z"
    }
   },
   "id": "a50602e67776a45",
   "execution_count": 33
  },
  {
   "cell_type": "markdown",
   "source": [
    "## Interacting with the KeplerMapper Visualization\n",
    "\n",
    "Once you have generated and opened the output HTML file in your browser, you can interact with the visualization to explore data clusters more deeply:\n",
    "\n",
    "1. **Expand Cluster Details**\n",
    "   - Click on individual nodes within the Mapper graph to view details about the data points contained within each cluster. This action reveals specific characteristics and metrics related to each cluster.\n",
    "\n",
    "2. **View Mapper Summary**\n",
    "   - Navigate to the summary section of the visualization to gain insights into the overall distribution and linkage of clusters. This part provides a high-level overview of the topological structure created by the Mapper algorithm.\n",
    "\n",
    "**Note:** Each node in the Mapper graph represents a cluster of data points. By analyzing the HTML object, you can identify which nodes are linked and determine the composition of data points within each node. This analysis is crucial for understanding how different addresses or entities are grouped together based on the selected lens and filtration parameters.\n"
   ],
   "metadata": {
    "collapsed": false
   },
   "id": "156d4434fb124f94"
  }
 ],
 "metadata": {
  "kernelspec": {
   "display_name": "Python 3",
   "language": "python",
   "name": "python3"
  },
  "language_info": {
   "codemirror_mode": {
    "name": "ipython",
    "version": 2
   },
   "file_extension": ".py",
   "mimetype": "text/x-python",
   "name": "python",
   "nbconvert_exporter": "python",
   "pygments_lexer": "ipython2",
   "version": "2.7.6"
  }
 },
 "nbformat": 4,
 "nbformat_minor": 5
}
